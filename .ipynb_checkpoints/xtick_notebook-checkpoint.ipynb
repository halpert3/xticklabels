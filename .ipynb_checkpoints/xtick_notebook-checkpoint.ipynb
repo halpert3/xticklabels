{
 "cells": [
  {
   "cell_type": "code",
   "execution_count": 1,
   "metadata": {
    "execution": {
     "iopub.execute_input": "2021-08-10T20:36:16.907138Z",
     "iopub.status.busy": "2021-08-10T20:36:16.906138Z",
     "iopub.status.idle": "2021-08-10T20:36:19.101137Z",
     "shell.execute_reply": "2021-08-10T20:36:19.100135Z",
     "shell.execute_reply.started": "2021-08-10T20:36:16.907138Z"
    }
   },
   "outputs": [],
   "source": [
    "import pandas as pd"
   ]
  },
  {
   "cell_type": "code",
   "execution_count": null,
   "metadata": {},
   "outputs": [],
   "source": []
  }
 ],
 "metadata": {
  "kernelspec": {
   "display_name": "Python 3",
   "language": "python",
   "name": "python3"
  },
  "language_info": {
   "codemirror_mode": {
    "name": "ipython",
    "version": 3
   },
   "file_extension": ".py",
   "mimetype": "text/x-python",
   "name": "python",
   "nbconvert_exporter": "python",
   "pygments_lexer": "ipython3",
   "version": "3.6.9"
  }
 },
 "nbformat": 4,
 "nbformat_minor": 4
}
