{
 "cells": [
  {
   "cell_type": "code",
   "execution_count": 1,
   "metadata": {
    "execution": {
     "iopub.execute_input": "2021-08-15T21:31:38.219203Z",
     "iopub.status.busy": "2021-08-15T21:31:38.219203Z",
     "iopub.status.idle": "2021-08-15T21:31:44.148854Z",
     "shell.execute_reply": "2021-08-15T21:31:44.147853Z",
     "shell.execute_reply.started": "2021-08-15T21:31:38.219203Z"
    }
   },
   "outputs": [],
   "source": [
    "import pandas as pd\n",
    "import numpy as np\n",
    "import matplotlib.pyplot as plt\n",
    "import seaborn as sns\n",
    "# sns.set_style('darkgrid')\n",
    "%matplotlib inline"
   ]
  },
  {
   "cell_type": "code",
   "execution_count": 2,
   "metadata": {
    "execution": {
     "iopub.execute_input": "2021-08-15T21:31:44.149855Z",
     "iopub.status.busy": "2021-08-15T21:31:44.149855Z",
     "iopub.status.idle": "2021-08-15T21:31:44.167859Z",
     "shell.execute_reply": "2021-08-15T21:31:44.163870Z",
     "shell.execute_reply.started": "2021-08-15T21:31:44.149855Z"
    }
   },
   "outputs": [],
   "source": [
    "col1 = np.random.randint(1,21, size=100).tolist()\n",
    "col2 = np.random.randint(21,41, size=100).tolist()"
   ]
  },
  {
   "cell_type": "code",
   "execution_count": 3,
   "metadata": {
    "execution": {
     "iopub.execute_input": "2021-08-15T21:31:44.169859Z",
     "iopub.status.busy": "2021-08-15T21:31:44.169859Z",
     "iopub.status.idle": "2021-08-15T21:31:44.211857Z",
     "shell.execute_reply": "2021-08-15T21:31:44.210853Z",
     "shell.execute_reply.started": "2021-08-15T21:31:44.169859Z"
    }
   },
   "outputs": [
    {
     "data": {
      "text/html": [
       "<div>\n",
       "<style scoped>\n",
       "    .dataframe tbody tr th:only-of-type {\n",
       "        vertical-align: middle;\n",
       "    }\n",
       "\n",
       "    .dataframe tbody tr th {\n",
       "        vertical-align: top;\n",
       "    }\n",
       "\n",
       "    .dataframe thead th {\n",
       "        text-align: right;\n",
       "    }\n",
       "</style>\n",
       "<table border=\"1\" class=\"dataframe\">\n",
       "  <thead>\n",
       "    <tr style=\"text-align: right;\">\n",
       "      <th></th>\n",
       "      <th>col1</th>\n",
       "      <th>col2</th>\n",
       "    </tr>\n",
       "  </thead>\n",
       "  <tbody>\n",
       "    <tr>\n",
       "      <th>0</th>\n",
       "      <td>17</td>\n",
       "      <td>32</td>\n",
       "    </tr>\n",
       "    <tr>\n",
       "      <th>1</th>\n",
       "      <td>12</td>\n",
       "      <td>40</td>\n",
       "    </tr>\n",
       "    <tr>\n",
       "      <th>2</th>\n",
       "      <td>18</td>\n",
       "      <td>39</td>\n",
       "    </tr>\n",
       "    <tr>\n",
       "      <th>3</th>\n",
       "      <td>10</td>\n",
       "      <td>21</td>\n",
       "    </tr>\n",
       "    <tr>\n",
       "      <th>4</th>\n",
       "      <td>16</td>\n",
       "      <td>32</td>\n",
       "    </tr>\n",
       "  </tbody>\n",
       "</table>\n",
       "</div>"
      ],
      "text/plain": [
       "   col1  col2\n",
       "0    17    32\n",
       "1    12    40\n",
       "2    18    39\n",
       "3    10    21\n",
       "4    16    32"
      ]
     },
     "execution_count": 3,
     "metadata": {},
     "output_type": "execute_result"
    }
   ],
   "source": [
    "df = pd.DataFrame({'col1': col1, 'col2': col2})\n",
    "df.head()"
   ]
  },
  {
   "cell_type": "code",
   "execution_count": 15,
   "metadata": {
    "execution": {
     "iopub.execute_input": "2021-08-15T21:36:49.857942Z",
     "iopub.status.busy": "2021-08-15T21:36:49.856905Z",
     "iopub.status.idle": "2021-08-15T21:36:49.869905Z",
     "shell.execute_reply": "2021-08-15T21:36:49.868906Z",
     "shell.execute_reply.started": "2021-08-15T21:36:49.857942Z"
    }
   },
   "outputs": [
    {
     "data": {
      "text/plain": [
       "[12,\n",
       " 18,\n",
       " 20,\n",
       " 6,\n",
       " 2,\n",
       " 4,\n",
       " 30,\n",
       " 12,\n",
       " 10,\n",
       " 2,\n",
       " 12,\n",
       " 2,\n",
       " 8,\n",
       " 4,\n",
       " 20,\n",
       " 22,\n",
       " 22,\n",
       " 22,\n",
       " 28,\n",
       " 26,\n",
       " 26,\n",
       " 24,\n",
       " 6,\n",
       " 30,\n",
       " 2,\n",
       " 24,\n",
       " 8,\n",
       " 18,\n",
       " 12,\n",
       " 10,\n",
       " 2,\n",
       " 20,\n",
       " 30,\n",
       " 14,\n",
       " 16,\n",
       " 20,\n",
       " 4,\n",
       " 18,\n",
       " 28,\n",
       " 14,\n",
       " 16,\n",
       " 26,\n",
       " 22,\n",
       " 22,\n",
       " 22,\n",
       " 6,\n",
       " 2,\n",
       " 4,\n",
       " 20,\n",
       " 26,\n",
       " 2,\n",
       " 18,\n",
       " 22,\n",
       " 12,\n",
       " 6,\n",
       " 20,\n",
       " 22,\n",
       " 28,\n",
       " 10,\n",
       " 26,\n",
       " 8,\n",
       " 28,\n",
       " 12,\n",
       " 18,\n",
       " 6,\n",
       " 18,\n",
       " 10,\n",
       " 2,\n",
       " 14,\n",
       " 6,\n",
       " 24,\n",
       " 18,\n",
       " 6,\n",
       " 24,\n",
       " 26,\n",
       " 22,\n",
       " 28,\n",
       " 6,\n",
       " 6,\n",
       " 2,\n",
       " 10,\n",
       " 28,\n",
       " 22,\n",
       " 18,\n",
       " 4,\n",
       " 2,\n",
       " 30,\n",
       " 26,\n",
       " 18,\n",
       " 6,\n",
       " 8,\n",
       " 22,\n",
       " 28,\n",
       " 20,\n",
       " 8,\n",
       " 20,\n",
       " 18,\n",
       " 26,\n",
       " 20,\n",
       " 30,\n",
       " 28]"
      ]
     },
     "execution_count": 15,
     "metadata": {},
     "output_type": "execute_result"
    }
   ],
   "source": [
    "import random\n",
    "col3 = []\n",
    "count = 0\n",
    "while count < 101:\n",
    "    col3.append(random.randrange(2, 32, 2))\n",
    "    count += 1\n",
    "col3"
   ]
  },
  {
   "cell_type": "code",
   "execution_count": null,
   "metadata": {},
   "outputs": [],
   "source": []
  }
 ],
 "metadata": {
  "kernelspec": {
   "display_name": "Python 3",
   "language": "python",
   "name": "python3"
  },
  "language_info": {
   "codemirror_mode": {
    "name": "ipython",
    "version": 3
   },
   "file_extension": ".py",
   "mimetype": "text/x-python",
   "name": "python",
   "nbconvert_exporter": "python",
   "pygments_lexer": "ipython3",
   "version": "3.6.9"
  }
 },
 "nbformat": 4,
 "nbformat_minor": 4
}
