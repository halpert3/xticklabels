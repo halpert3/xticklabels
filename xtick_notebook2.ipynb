{
 "cells": [
  {
   "cell_type": "code",
   "execution_count": 6,
   "metadata": {
    "execution": {
     "iopub.execute_input": "2021-08-13T19:12:40.713275Z",
     "iopub.status.busy": "2021-08-13T19:12:40.712272Z",
     "iopub.status.idle": "2021-08-13T19:12:40.721273Z",
     "shell.execute_reply": "2021-08-13T19:12:40.720275Z",
     "shell.execute_reply.started": "2021-08-13T19:12:40.713275Z"
    }
   },
   "outputs": [],
   "source": [
    "import pandas as pd\n",
    "import numpy as np\n",
    "\n",
    "import matplotlib.pyplot as plt\n",
    "import seaborn as sns\n",
    "%matplotlib inline"
   ]
  },
  {
   "cell_type": "markdown",
   "metadata": {},
   "source": [
    "Create dataframe of two columns, Random integers, one 1-15, two 16-30"
   ]
  },
  {
   "cell_type": "code",
   "execution_count": 44,
   "metadata": {
    "execution": {
     "iopub.execute_input": "2021-08-13T19:53:06.166235Z",
     "iopub.status.busy": "2021-08-13T19:53:06.165236Z",
     "iopub.status.idle": "2021-08-13T19:53:06.200234Z",
     "shell.execute_reply": "2021-08-13T19:53:06.198234Z",
     "shell.execute_reply.started": "2021-08-13T19:53:06.166235Z"
    }
   },
   "outputs": [
    {
     "data": {
      "text/html": [
       "<div>\n",
       "<style scoped>\n",
       "    .dataframe tbody tr th:only-of-type {\n",
       "        vertical-align: middle;\n",
       "    }\n",
       "\n",
       "    .dataframe tbody tr th {\n",
       "        vertical-align: top;\n",
       "    }\n",
       "\n",
       "    .dataframe thead th {\n",
       "        text-align: right;\n",
       "    }\n",
       "</style>\n",
       "<table border=\"1\" class=\"dataframe\">\n",
       "  <thead>\n",
       "    <tr style=\"text-align: right;\">\n",
       "      <th></th>\n",
       "      <th>col1</th>\n",
       "      <th>col2</th>\n",
       "    </tr>\n",
       "  </thead>\n",
       "  <tbody>\n",
       "    <tr>\n",
       "      <th>0</th>\n",
       "      <td>13</td>\n",
       "      <td>20</td>\n",
       "    </tr>\n",
       "    <tr>\n",
       "      <th>1</th>\n",
       "      <td>6</td>\n",
       "      <td>19</td>\n",
       "    </tr>\n",
       "    <tr>\n",
       "      <th>2</th>\n",
       "      <td>1</td>\n",
       "      <td>28</td>\n",
       "    </tr>\n",
       "    <tr>\n",
       "      <th>3</th>\n",
       "      <td>4</td>\n",
       "      <td>20</td>\n",
       "    </tr>\n",
       "    <tr>\n",
       "      <th>4</th>\n",
       "      <td>12</td>\n",
       "      <td>20</td>\n",
       "    </tr>\n",
       "  </tbody>\n",
       "</table>\n",
       "</div>"
      ],
      "text/plain": [
       "   col1  col2\n",
       "0    13    20\n",
       "1     6    19\n",
       "2     1    28\n",
       "3     4    20\n",
       "4    12    20"
      ]
     },
     "execution_count": 44,
     "metadata": {},
     "output_type": "execute_result"
    }
   ],
   "source": [
    "np.random.seed(0)\n",
    "col1 = np.random.randint(1, 16, size=100).tolist()\n",
    "col2 = np.random.randint(16, 31, size=100).tolist()\n",
    "df = pd.DataFrame({'col1': col1, 'col2': col2})\n",
    "df.head()"
   ]
  },
  {
   "cell_type": "markdown",
   "metadata": {},
   "source": [
    "Use countplot to figure it out. Make plot of first column"
   ]
  },
  {
   "cell_type": "code",
   "execution_count": 45,
   "metadata": {
    "execution": {
     "iopub.execute_input": "2021-08-13T19:53:08.239281Z",
     "iopub.status.busy": "2021-08-13T19:53:08.238271Z",
     "iopub.status.idle": "2021-08-13T19:53:08.746234Z",
     "shell.execute_reply": "2021-08-13T19:53:08.745236Z",
     "shell.execute_reply.started": "2021-08-13T19:53:08.239281Z"
    }
   },
   "outputs": [
    {
     "data": {
      "image/png": "[encoded data removed]",
      "text/plain": [
       "<Figure size 1224x432 with 1 Axes>"
      ]
     },
     "metadata": {},
     "output_type": "display_data"
    }
   ],
   "source": [
    "sns.set(rc={'figure.figsize':(17, 6)})\n",
    "g = sns.countplot(x = df['col1'],\n",
    "                 palette=sns.color_palette('Spectral', n_colors=4))\n",
    "plt.savefig('images/fig1.png')"
   ]
  },
  {
   "cell_type": "code",
   "execution_count": 9,
   "metadata": {
    "execution": {
     "iopub.execute_input": "2021-08-13T19:12:41.232273Z",
     "iopub.status.busy": "2021-08-13T19:12:41.232273Z",
     "iopub.status.idle": "2021-08-13T19:12:41.246275Z",
     "shell.execute_reply": "2021-08-13T19:12:41.245275Z",
     "shell.execute_reply.started": "2021-08-13T19:12:41.232273Z"
    }
   },
   "outputs": [
    {
     "data": {
      "text/plain": [
       "12"
      ]
     },
     "execution_count": 9,
     "metadata": {},
     "output_type": "execute_result"
    }
   ],
   "source": [
    "len(df.loc[df['col1'] == 4])"
   ]
  },
  {
   "cell_type": "markdown",
   "metadata": {},
   "source": [
    "Looks like everything works fine. Indeed there are 12 rows with the value of 4"
   ]
  },
  {
   "cell_type": "markdown",
   "metadata": {
    "execution": {
     "iopub.execute_input": "2021-08-11T16:42:36.894614Z",
     "iopub.status.busy": "2021-08-11T16:42:36.893614Z",
     "iopub.status.idle": "2021-08-11T16:42:36.911616Z",
     "shell.execute_reply": "2021-08-11T16:42:36.909612Z",
     "shell.execute_reply.started": "2021-08-11T16:42:36.894614Z"
    }
   },
   "source": [
    "But what if I set only three x ticks"
   ]
  },
  {
   "cell_type": "code",
   "execution_count": 24,
   "metadata": {
    "execution": {
     "iopub.execute_input": "2021-08-13T19:21:12.019837Z",
     "iopub.status.busy": "2021-08-13T19:21:12.019837Z",
     "iopub.status.idle": "2021-08-13T19:21:12.290841Z",
     "shell.execute_reply": "2021-08-13T19:21:12.289841Z",
     "shell.execute_reply.started": "2021-08-13T19:21:12.019837Z"
    }
   },
   "outputs": [
    {
     "data": {
      "text/plain": [
       "<function matplotlib.pyplot.show(*args, **kw)>"
      ]
     },
     "execution_count": 24,
     "metadata": {},
     "output_type": "execute_result"
    },
    {
     "data": {
      "image/png": "[encoded data removed]",
      "text/plain": [
       "<Figure size 1080x216 with 1 Axes>"
      ]
     },
     "metadata": {},
     "output_type": "display_data"
    }
   ],
   "source": [
    "sns.set(rc={'figure.figsize':(15, 3)})\n",
    "g = sns.countplot(x = df['col1'],\n",
    "                 palette=sns.color_palette('Spectral', n_colors=4))\n",
    "g.set(xticks=([0, 7, 14]))\n",
    "plt.show\n"
   ]
  },
  {
   "cell_type": "markdown",
   "metadata": {},
   "source": [
    "It uses the indices, not the values, and then counts the indices"
   ]
  },
  {
   "cell_type": "markdown",
   "metadata": {
    "execution": {
     "iopub.execute_input": "2021-08-11T16:42:08.723462Z",
     "iopub.status.busy": "2021-08-11T16:42:08.722461Z",
     "iopub.status.idle": "2021-08-11T16:42:08.745469Z",
     "shell.execute_reply": "2021-08-11T16:42:08.743461Z",
     "shell.execute_reply.started": "2021-08-11T16:42:08.723462Z"
    }
   },
   "source": [
    "Now let me set xticks at 15, 30, and 45"
   ]
  },
  {
   "cell_type": "code",
   "execution_count": 26,
   "metadata": {
    "execution": {
     "iopub.execute_input": "2021-08-13T19:21:33.238079Z",
     "iopub.status.busy": "2021-08-13T19:21:33.238079Z",
     "iopub.status.idle": "2021-08-13T19:21:33.498074Z",
     "shell.execute_reply": "2021-08-13T19:21:33.497074Z",
     "shell.execute_reply.started": "2021-08-13T19:21:33.238079Z"
    }
   },
   "outputs": [
    {
     "data": {
      "image/png": "[encoded data removed]",
      "text/plain": [
       "<Figure size 1080x216 with 1 Axes>"
      ]
     },
     "metadata": {},
     "output_type": "display_data"
    }
   ],
   "source": [
    "sns.set(rc={'figure.figsize':(15, 3)})\n",
    "g = sns.countplot(x=df['col1'],\n",
    "                 palette=sns.color_palette('Spectral', n_colors=4))\n",
    "g.set(xticks=([0, 15, 30, 45]))\n",
    "plt.show()"
   ]
  },
  {
   "cell_type": "markdown",
   "metadata": {},
   "source": [
    "Again, it uses the indices, not the values, then counts the indices starting at 1"
   ]
  },
  {
   "cell_type": "markdown",
   "metadata": {},
   "source": [
    "Interesting. The xticks are at 1, 2, and 3.  \n",
    "\n",
    "Try it with xtick_labels"
   ]
  },
  {
   "cell_type": "code",
   "execution_count": 29,
   "metadata": {
    "execution": {
     "iopub.execute_input": "2021-08-13T19:26:51.861613Z",
     "iopub.status.busy": "2021-08-13T19:26:51.861613Z",
     "iopub.status.idle": "2021-08-13T19:26:52.108611Z",
     "shell.execute_reply": "2021-08-13T19:26:52.107611Z",
     "shell.execute_reply.started": "2021-08-13T19:26:51.861613Z"
    }
   },
   "outputs": [
    {
     "data": {
      "image/png": "[encoded data removed]",
      "text/plain": [
       "<Figure size 1080x216 with 1 Axes>"
      ]
     },
     "metadata": {},
     "output_type": "display_data"
    }
   ],
   "source": [
    "sns.set(rc={'figure.figsize':(15, 3)})\n",
    "g = sns.countplot(x=df['col1'],\n",
    "                 palette=sns.color_palette('Spectral', n_colors=4))\n",
    "# g.set(xticks=([0, 15, 30, 45]))\n",
    "g.set_xticks([0,15,30.45])\n",
    "g.set(xticklabels=(['one', 'sixteen', 'thirty-one', 'forty-six']))\n",
    "plt.show()\n"
   ]
  },
  {
   "cell_type": "markdown",
   "metadata": {},
   "source": [
    "Notice if I want to rotate the labels use\n",
    "\n",
    "`set_xticklabels(labels = [], rotation = )`"
   ]
  },
  {
   "cell_type": "code",
   "execution_count": 28,
   "metadata": {
    "execution": {
     "iopub.execute_input": "2021-08-13T19:22:00.192002Z",
     "iopub.status.busy": "2021-08-13T19:22:00.192002Z",
     "iopub.status.idle": "2021-08-13T19:22:00.474002Z",
     "shell.execute_reply": "2021-08-13T19:22:00.473001Z",
     "shell.execute_reply.started": "2021-08-13T19:22:00.192002Z"
    }
   },
   "outputs": [
    {
     "data": {
      "image/png": "[encoded data removed]",
      "text/plain": [
       "<Figure size 1080x216 with 1 Axes>"
      ]
     },
     "metadata": {},
     "output_type": "display_data"
    }
   ],
   "source": [
    "sns.set(rc={'figure.figsize':(15, 3)})\n",
    "g = sns.countplot(x=df['col1'],\n",
    "                 palette=sns.color_palette('Spectral', n_colors=4))\n",
    "g.set(xticks=([0, 15, 30, 45]))\n",
    "g.set_xticklabels(labels = ['one', 'sixteen', 'thirty-one', 'forty-six'], rotation=60)\n",
    "plt.show()\n"
   ]
  },
  {
   "cell_type": "markdown",
   "metadata": {},
   "source": [
    "With larger column"
   ]
  },
  {
   "cell_type": "code",
   "execution_count": 14,
   "metadata": {
    "execution": {
     "iopub.execute_input": "2021-08-13T19:12:42.804284Z",
     "iopub.status.busy": "2021-08-13T19:12:42.803275Z",
     "iopub.status.idle": "2021-08-13T19:12:43.371274Z",
     "shell.execute_reply": "2021-08-13T19:12:43.370271Z",
     "shell.execute_reply.started": "2021-08-13T19:12:42.804284Z"
    }
   },
   "outputs": [
    {
     "data": {
      "image/png": "[encoded data removed]",
      "text/plain": [
       "<Figure size 1080x216 with 1 Axes>"
      ]
     },
     "metadata": {},
     "output_type": "display_data"
    }
   ],
   "source": [
    "sns.set(rc={'figure.figsize':(15, 3)})\n",
    "\n",
    "g = sns.countplot(x = df['col2'], \n",
    "                  palette=sns.color_palette('coolwarm', n_colors=4))"
   ]
  },
  {
   "cell_type": "markdown",
   "metadata": {},
   "source": [
    "Works OK, as you would think, but if I only wanted to set a few label"
   ]
  },
  {
   "cell_type": "code",
   "execution_count": 15,
   "metadata": {
    "execution": {
     "iopub.execute_input": "2021-08-13T19:12:43.373273Z",
     "iopub.status.busy": "2021-08-13T19:12:43.373273Z",
     "iopub.status.idle": "2021-08-13T19:12:43.656271Z",
     "shell.execute_reply": "2021-08-13T19:12:43.655271Z",
     "shell.execute_reply.started": "2021-08-13T19:12:43.373273Z"
    }
   },
   "outputs": [
    {
     "data": {
      "image/png": "[encoded data removed]",
      "text/plain": [
       "<Figure size 1080x216 with 1 Axes>"
      ]
     },
     "metadata": {},
     "output_type": "display_data"
    }
   ],
   "source": [
    "sns.set(rc={'figure.figsize':(15, 3)})\n",
    "\n",
    "g = sns.countplot(x = df['col2'], \n",
    "                  palette=sns.color_palette('coolwarm', n_colors=4))\n",
    "g.set(xticks=[0, 7, 14])\n",
    "plt.show()"
   ]
  },
  {
   "cell_type": "markdown",
   "metadata": {},
   "source": [
    "Here, for the first index, which equals 16, it works fine.\n",
    "But then instead of addint 7 and 14, it adds 1 and 2.  \n",
    "\n",
    "Not quite sure why it was designed this way.  This was the part that is really confusing to me. \n",
    "\n",
    "\n",
    "Use xtick labels to fix."
   ]
  },
  {
   "cell_type": "code",
   "execution_count": 16,
   "metadata": {
    "execution": {
     "iopub.execute_input": "2021-08-13T19:12:43.658273Z",
     "iopub.status.busy": "2021-08-13T19:12:43.658273Z",
     "iopub.status.idle": "2021-08-13T19:12:43.992277Z",
     "shell.execute_reply": "2021-08-13T19:12:43.991274Z",
     "shell.execute_reply.started": "2021-08-13T19:12:43.658273Z"
    }
   },
   "outputs": [
    {
     "data": {
      "image/png": "[encoded data removed]",
      "text/plain": [
       "<Figure size 1080x216 with 1 Axes>"
      ]
     },
     "metadata": {},
     "output_type": "display_data"
    }
   ],
   "source": [
    "sns.set(rc={'figure.figsize':(15, 3)})\n",
    "\n",
    "g = sns.countplot(x = df['col2'], \n",
    "                  palette=sns.color_palette('coolwarm', n_colors=4))\n",
    "g.set(xticks=[0, 7, 14])\n",
    "g.set_xticklabels(labels = ['sixteen', 'twenty-three', 'thirty'], rotation=30)\n",
    "plt.show()"
   ]
  },
  {
   "cell_type": "code",
   "execution_count": null,
   "metadata": {},
   "outputs": [],
   "source": []
  },
  {
   "cell_type": "code",
   "execution_count": null,
   "metadata": {},
   "outputs": [],
   "source": []
  },
  {
   "cell_type": "code",
   "execution_count": 17,
   "metadata": {
    "execution": {
     "iopub.execute_input": "2021-08-13T19:12:43.995277Z",
     "iopub.status.busy": "2021-08-13T19:12:43.994276Z",
     "iopub.status.idle": "2021-08-13T19:12:44.280281Z",
     "shell.execute_reply": "2021-08-13T19:12:44.277301Z",
     "shell.execute_reply.started": "2021-08-13T19:12:43.995277Z"
    }
   },
   "outputs": [
    {
     "data": {
      "image/png": "[encoded data removed]",
      "text/plain": [
       "<Figure size 1080x216 with 1 Axes>"
      ]
     },
     "metadata": {},
     "output_type": "display_data"
    }
   ],
   "source": [
    "sns.set(rc={'figure.figsize':(15, 3)})\n",
    "g = sns.countplot(x=df['col2'], \n",
    "                 palette=sns.color_palette('coolwarm', n_colors=4))\n",
    "g.set(xticks=([0, 15, 31]))\n",
    "g.set_xticklabels(labels = ['sixteen', 'thirty-one', 'forty-six'], rotation=60)\n",
    "plt.show()"
   ]
  },
  {
   "cell_type": "code",
   "execution_count": null,
   "metadata": {},
   "outputs": [],
   "source": []
  }
 ],
 "metadata": {
  "kernelspec": {
   "display_name": "Python 3",
   "language": "python",
   "name": "python3"
  },
  "language_info": {
   "codemirror_mode": {
    "name": "ipython",
    "version": 3
   },
   "file_extension": ".py",
   "mimetype": "text/x-python",
   "name": "python",
   "nbconvert_exporter": "python",
   "pygments_lexer": "ipython3",
   "version": "3.6.9"
  }
 },
 "nbformat": 4,
 "nbformat_minor": 4
}
